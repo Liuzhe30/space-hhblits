{
 "cells": [
  {
   "cell_type": "code",
   "execution_count": 2,
   "id": "46066c3e",
   "metadata": {},
   "outputs": [
    {
     "name": "stdout",
     "output_type": "stream",
     "text": [
      "0.1354764638346728\n",
      "0.4115958668197474\n",
      "0.6595866819747417\n",
      "0.7864523536165328\n",
      "0.8760045924225028\n"
     ]
    }
   ],
   "source": [
    "# count seq len\n",
    "len_less_200 = 0\n",
    "len_less_400 = 0\n",
    "len_less_600 = 0\n",
    "len_less_800 = 0\n",
    "len_less_1024 = 0\n",
    "with open(\"data/dataset_alphafold.txt\") as fasta:\n",
    "    line = fasta.readline()\n",
    "    while line:\n",
    "        if(line[0] == '>'):\n",
    "            uniprot_id = line[1:].strip()\n",
    "            seq = fasta.readline().strip()\n",
    "            label = fasta.readline().strip()\n",
    "            if(len(seq) <= 1024):\n",
    "                len_less_1024 += 1\n",
    "            if(len(seq) <= 200):\n",
    "                len_less_200 += 1\n",
    "            if(len(seq) <= 400):\n",
    "                len_less_400 += 1\n",
    "            if(len(seq) <= 600):\n",
    "                len_less_600 += 1\n",
    "            if(len(seq) <= 800):\n",
    "                len_less_800 += 1\n",
    "            line = fasta.readline()\n",
    "\n",
    "print(len_less_200 / 1742) # 0.14\n",
    "print(len_less_400 / 1742) # 0.41\n",
    "print(len_less_600 / 1742) # 0.66\n",
    "print(len_less_800 / 1742) # 0.78\n",
    "print(len_less_1024 / 1742) # 0.88"
   ]
  },
  {
   "cell_type": "code",
   "execution_count": null,
   "id": "7a6b6fcb",
   "metadata": {},
   "outputs": [],
   "source": []
  }
 ],
 "metadata": {
  "kernelspec": {
   "display_name": "Python 3 (ipykernel)",
   "language": "python",
   "name": "python3"
  },
  "language_info": {
   "codemirror_mode": {
    "name": "ipython",
    "version": 3
   },
   "file_extension": ".py",
   "mimetype": "text/x-python",
   "name": "python",
   "nbconvert_exporter": "python",
   "pygments_lexer": "ipython3",
   "version": "3.8.3"
  }
 },
 "nbformat": 4,
 "nbformat_minor": 5
}
