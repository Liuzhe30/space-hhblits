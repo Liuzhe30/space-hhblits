{
 "cells": [
  {
   "cell_type": "code",
   "execution_count": 1,
   "id": "73893903",
   "metadata": {},
   "outputs": [
    {
     "name": "stdout",
     "output_type": "stream",
     "text": [
      "1742\n"
     ]
    }
   ],
   "source": [
    "# fetch dataset name list\n",
    "import os\n",
    "hhm_path = 'data/hhblits_example/'\n",
    "pdb_path = 'data/pdb_example/'\n",
    "hhm_path_files = os.listdir(hhm_path)  \n",
    "name_list = []\n",
    "for fi in hhm_path_files: \n",
    "    hhm_name = fi.split('.')[0]\n",
    "    name_list.append(hhm_name)\n",
    "print(len(name_list))"
   ]
  },
  {
   "cell_type": "code",
   "execution_count": 9,
   "id": "00f61486",
   "metadata": {},
   "outputs": [],
   "source": [
    "# one-hot dict for proteins\n",
    "import numpy as np\n",
    "protein_dict = {'C':np.eye(20)[0], 'D':np.eye(20)[1], 'S':np.eye(20)[1], 'Q':np.eye(20)[3], 'K':np.eye(20)[4],\n",
    "        'I':np.eye(20)[5], 'P':np.eye(20)[6], 'T':np.eye(20)[7], 'F':np.eye(20)[8], 'N':np.eye(20)[9],\n",
    "        'G':np.eye(20)[10], 'H':np.eye(20)[11], 'L':np.eye(20)[12], 'R':np.eye(20)[13], 'W':np.eye(20)[14],\n",
    "        'A':np.eye(20)[15], 'V':np.eye(20)[16], 'E':np.eye(20)[17], 'Y':np.eye(20)[18], 'M':np.eye(20)[19]}\n",
    "#print(protein_dict)"
   ]
  },
  {
   "cell_type": "code",
   "execution_count": 24,
   "id": "3ab2ba1e",
   "metadata": {},
   "outputs": [
    {
     "name": "stdout",
     "output_type": "stream",
     "text": [
      "(1742, 1024, 51)\n"
     ]
    }
   ],
   "source": [
    "# generate dataset\n",
    "np.set_printoptions(threshold=np.inf)\n",
    "shhm_5A_mae_path = 'data/5A_mae_shhm/'\n",
    "all_sample_list = []\n",
    "with open(\"data/dataset_alphafold.txt\") as file:\n",
    "    line = file.readline()\n",
    "    while line:\n",
    "        if(line[0] == '>'):\n",
    "            uniprot_id = line[1:].strip()\n",
    "            seq = file.readline().strip()\n",
    "            label = file.readline().strip()\n",
    "            feature_matrix = np.zeros([1024, 51], float) # 20+30+1,onehot+spacehhblits+mask\n",
    "            shhm_matrix = np.loadtxt(shhm_5A_mae_path + uniprot_id + \".shhm\")\n",
    "            # check seq length\n",
    "            if(len(seq) <= 1024):\n",
    "                for i in range(len(seq)):\n",
    "                    feature_matrix[i,0:20] = protein_dict[seq[i]]\n",
    "                    feature_matrix[i,20:50] = shhm_matrix[i,:]\n",
    "                    feature_matrix[i,-1] = 1\n",
    "            else: # cut off\n",
    "                for i in range(1024):\n",
    "                    feature_matrix[i,0:20] = protein_dict[seq[i]]\n",
    "                    feature_matrix[i,20:50] = shhm_matrix[i,:]\n",
    "                    feature_matrix[i,-1] = 1\n",
    "        #print(feature_matrix.shape) #1024*51\n",
    "        all_sample_list.append(feature_matrix)\n",
    "        line = file.readline()\n",
    "all_sample = np.array(all_sample_list)\n",
    "print(all_sample.shape) # (1742, 1024, 51)\n",
    "np.save(\"data/dataset_5A_mae_shhm.npy\", all_sample)"
   ]
  },
  {
   "cell_type": "code",
   "execution_count": null,
   "id": "7562c7b7",
   "metadata": {},
   "outputs": [],
   "source": [
    "# load dataset\n",
    "dataset = np.load(\"data/dataset_5A_mae_shhm.npy\")\n",
    "print(dataset.shape) # (1742, 1024, 51)\n",
    "# split dataset\n",
    "train_set = dataset[0:1642]\n",
    "valid_set = dataset[1642:1692]\n",
    "test_set = dataset[1692:1742]"
   ]
  },
  {
   "cell_type": "code",
   "execution_count": null,
   "id": "b304fe51",
   "metadata": {},
   "outputs": [],
   "source": [
    "# 1 test desicion tree"
   ]
  },
  {
   "cell_type": "code",
   "execution_count": null,
   "id": "ed8a6ba0",
   "metadata": {},
   "outputs": [],
   "source": [
    "# 2 test xgboost"
   ]
  },
  {
   "cell_type": "code",
   "execution_count": null,
   "id": "bf3ee924",
   "metadata": {},
   "outputs": [],
   "source": [
    "# 3 test lightGBM"
   ]
  },
  {
   "cell_type": "code",
   "execution_count": null,
   "id": "e75363ab",
   "metadata": {},
   "outputs": [],
   "source": [
    "# 4 test MLP"
   ]
  },
  {
   "cell_type": "code",
   "execution_count": null,
   "id": "a8e31b1a",
   "metadata": {},
   "outputs": [],
   "source": [
    "# 5 test CNN"
   ]
  },
  {
   "cell_type": "code",
   "execution_count": null,
   "id": "2e4b1ce8",
   "metadata": {},
   "outputs": [],
   "source": [
    "# 6 test BiLSTM"
   ]
  },
  {
   "cell_type": "code",
   "execution_count": null,
   "id": "66b50543",
   "metadata": {},
   "outputs": [],
   "source": [
    "# 7 test Transformer"
   ]
  }
 ],
 "metadata": {
  "kernelspec": {
   "display_name": "Python 3 (ipykernel)",
   "language": "python",
   "name": "python3"
  },
  "language_info": {
   "codemirror_mode": {
    "name": "ipython",
    "version": 3
   },
   "file_extension": ".py",
   "mimetype": "text/x-python",
   "name": "python",
   "nbconvert_exporter": "python",
   "pygments_lexer": "ipython3",
   "version": "3.8.3"
  }
 },
 "nbformat": 4,
 "nbformat_minor": 5
}
