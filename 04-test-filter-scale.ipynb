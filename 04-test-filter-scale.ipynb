{
 "cells": [
  {
   "cell_type": "code",
   "execution_count": 1,
   "id": "73893903",
   "metadata": {},
   "outputs": [
    {
     "name": "stdout",
     "output_type": "stream",
     "text": [
      "1742\n"
     ]
    }
   ],
   "source": [
    "# fetch dataset name list\n",
    "import os\n",
    "hhm_path = 'data/hhblits_example/'\n",
    "pdb_path = 'data/pdb_example/'\n",
    "hhm_path_files = os.listdir(hhm_path)  \n",
    "name_list = []\n",
    "for fi in hhm_path_files: \n",
    "    hhm_name = fi.split('.')[0]\n",
    "    name_list.append(hhm_name)\n",
    "print(len(name_list))"
   ]
  },
  {
   "cell_type": "code",
   "execution_count": 9,
   "id": "8f6aa4f0",
   "metadata": {},
   "outputs": [],
   "source": [
    "# one-hot dict for proteins\n",
    "import numpy as np\n",
    "protein_dict = {'C':np.eye(20)[0], 'D':np.eye(20)[1], 'S':np.eye(20)[1], 'Q':np.eye(20)[3], 'K':np.eye(20)[4],\n",
    "        'I':np.eye(20)[5], 'P':np.eye(20)[6], 'T':np.eye(20)[7], 'F':np.eye(20)[8], 'N':np.eye(20)[9],\n",
    "        'G':np.eye(20)[10], 'H':np.eye(20)[11], 'L':np.eye(20)[12], 'R':np.eye(20)[13], 'W':np.eye(20)[14],\n",
    "        'A':np.eye(20)[15], 'V':np.eye(20)[16], 'E':np.eye(20)[17], 'Y':np.eye(20)[18], 'M':np.eye(20)[19]}\n",
    "#print(protein_dict)"
   ]
  },
  {
   "cell_type": "code",
   "execution_count": 26,
   "id": "cc7a59e7",
   "metadata": {},
   "outputs": [
    {
     "name": "stdout",
     "output_type": "stream",
     "text": [
      "(1742, 1024, 52)\n"
     ]
    }
   ],
   "source": [
    "# generate 1024 cut-off dataset\n",
    "np.set_printoptions(threshold=np.inf)\n",
    "shhm_5A_mae_path = 'data/5A_mae_shhm/'\n",
    "all_sample_list = []\n",
    "with open(\"data/dataset_alphafold.txt\") as file:\n",
    "    line = file.readline()\n",
    "    while line:\n",
    "        if(line[0] == '>'):\n",
    "            uniprot_id = line[1:].strip()\n",
    "            seq = file.readline().strip()\n",
    "            label = file.readline().strip()\n",
    "            feature_matrix = np.zeros([1024, 52], float) # 20+30+1,onehot+spacehhblits+mask+label\n",
    "            shhm_matrix = np.loadtxt(shhm_5A_mae_path + uniprot_id + \".shhm\")\n",
    "            # check seq length\n",
    "            if(len(seq) <= 1024):\n",
    "                for i in range(len(seq)):\n",
    "                    feature_matrix[i,0:20] = protein_dict[seq[i]]\n",
    "                    feature_matrix[i,20:50] = shhm_matrix[i,:]\n",
    "                    feature_matrix[i,-2] = 1\n",
    "                    feature_matrix[i,-1] = label[i]\n",
    "            else: # cut off\n",
    "                for i in range(1024):\n",
    "                    feature_matrix[i,0:20] = protein_dict[seq[i]]\n",
    "                    feature_matrix[i,20:50] = shhm_matrix[i,:]\n",
    "                    feature_matrix[i,-2] = 1\n",
    "                    feature_matrix[i,-1] = label[i]\n",
    "        #print(feature_matrix.shape) #1024*52\n",
    "        all_sample_list.append(feature_matrix)\n",
    "        line = file.readline()\n",
    "all_sample = np.array(all_sample_list)\n",
    "print(all_sample.shape) # (1742, 1024, 52)\n",
    "np.save(\"data/dataset_5A_mae_shhm_1024.npy\", all_sample)"
   ]
  },
  {
   "cell_type": "code",
   "execution_count": 28,
   "id": "398d2c1d",
   "metadata": {},
   "outputs": [
    {
     "name": "stdout",
     "output_type": "stream",
     "text": [
      "(1742, 1024, 52)\n"
     ]
    }
   ],
   "source": [
    "# load 1024 cut-off dataset\n",
    "dataset = np.load(\"data/dataset_5A_mae_shhm_1024.npy\")\n",
    "print(dataset.shape) # (1742, 1024, 52)\n",
    "# split dataset\n",
    "train_set = dataset[0:1642]\n",
    "valid_set = dataset[1642:1692]\n",
    "test_set = dataset[1692:1742]"
   ]
  },
  {
   "cell_type": "code",
   "execution_count": null,
   "id": "33d54988",
   "metadata": {},
   "outputs": [],
   "source": [
    "# 1 test MLP"
   ]
  },
  {
   "cell_type": "code",
   "execution_count": null,
   "id": "ed9be354",
   "metadata": {},
   "outputs": [],
   "source": [
    "# 2 test CNN"
   ]
  },
  {
   "cell_type": "code",
   "execution_count": null,
   "id": "0355379f",
   "metadata": {},
   "outputs": [],
   "source": [
    "# 3 test RNN"
   ]
  },
  {
   "cell_type": "code",
   "execution_count": null,
   "id": "652cadfc",
   "metadata": {},
   "outputs": [],
   "source": [
    "# 4 test LSTM"
   ]
  },
  {
   "cell_type": "code",
   "execution_count": null,
   "id": "40312411",
   "metadata": {},
   "outputs": [],
   "source": [
    "# 5 test BiLSTM"
   ]
  },
  {
   "cell_type": "code",
   "execution_count": null,
   "id": "fdba00c8",
   "metadata": {},
   "outputs": [],
   "source": [
    "# 6 test CNN+BiLSTM"
   ]
  },
  {
   "cell_type": "code",
   "execution_count": null,
   "id": "8a1a0a7a",
   "metadata": {},
   "outputs": [],
   "source": [
    "# 7 test Transformer"
   ]
  }
 ],
 "metadata": {
  "kernelspec": {
   "display_name": "Python 3 (ipykernel)",
   "language": "python",
   "name": "python3"
  },
  "language_info": {
   "codemirror_mode": {
    "name": "ipython",
    "version": 3
   },
   "file_extension": ".py",
   "mimetype": "text/x-python",
   "name": "python",
   "nbconvert_exporter": "python",
   "pygments_lexer": "ipython3",
   "version": "3.8.3"
  }
 },
 "nbformat": 4,
 "nbformat_minor": 5
}
