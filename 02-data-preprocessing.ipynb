{
 "cells": [
  {
   "cell_type": "code",
   "execution_count": 1,
   "id": "07e4a3a0",
   "metadata": {},
   "outputs": [],
   "source": [
    "# prepare for running hh-suite (see utils/runHHblits.py)\n",
    "with open(\"data/dataset_fasta.txt\") as fasta:\n",
    "    line = fasta.readline()\n",
    "    while line:\n",
    "        if(line[0] == '>'):\n",
    "            uniprot_id = line[1:].strip()\n",
    "            seq = fasta.readline().strip()\n",
    "            label = fasta.readline().strip()\n",
    "            new = open(\"data/fasta_all_new/\" + uniprot_id + \".fasta\", \"w+\")\n",
    "            new.write(\">\" + uniprot_id + '\\n')\n",
    "            new.write(seq)\n",
    "            line = fasta.readline()"
   ]
  },
  {
   "cell_type": "code",
   "execution_count": 7,
   "id": "7a5f15df",
   "metadata": {},
   "outputs": [],
   "source": [
    "# check file numbers of .pdb and .hhm\n",
    "import os\n",
    "hhm_path = 'data/hhblits_example/'\n",
    "pdb_path = 'data/pdb_example/'\n",
    "files = os.listdir(pdb_path) \n",
    "for fi in files: \n",
    "    pdb_name = fi.split('.')[0]\n",
    "    if(not os.path.exists(hhm_path + pdb_name + '.hhm')):\n",
    "        print(pdb_name)"
   ]
  },
  {
   "cell_type": "code",
   "execution_count": 10,
   "id": "6c56e68f",
   "metadata": {},
   "outputs": [
    {
     "name": "stdout",
     "output_type": "stream",
     "text": [
      "check finished!\n"
     ]
    }
   ],
   "source": [
    "# Verify the seq len of .pdb and .hhm\n",
    "import os\n",
    "hhm_path = 'data/hhblits_example/'\n",
    "pdb_path = 'data/pdb_example/'\n",
    "files = os.listdir(hhm_path)  \n",
    "flag = 0\n",
    "del_names = []\n",
    "for fi in files:    \n",
    "    hhm_file_name = os.path.join(hhm_path,fi) \n",
    "    with open(hhm_file_name) as hhm_file:\n",
    "        line = hhm_file.readline()\n",
    "        while line:\n",
    "            if(line[0:4] == 'NAME'):\n",
    "                name = line.split()[1]\n",
    "            if(line[0:4] == 'LENG'):\n",
    "                hhm_seq_len = line.split()[1]\n",
    "                break\n",
    "            line = hhm_file.readline()\n",
    "        pdb_file_name = pdb_path + name + '.pdb'\n",
    "        if(not os.path.exists(pdb_file_name)):\n",
    "            print(\"pdb file not existed!\")\n",
    "            break\n",
    "        with open(pdb_file_name) as pdb_file:\n",
    "            line = pdb_file.readline()\n",
    "            while line:\n",
    "                if(line[0:5] == 'DBREF'):\n",
    "                    pdb_seq_len = line.split()[4]\n",
    "                    break\n",
    "                line = pdb_file.readline()    \n",
    "        if(hhm_seq_len != pdb_seq_len):\n",
    "            flag = 1\n",
    "            print(\"sequence length not matched! File name: \",name)\n",
    "            del_names.append(name)\n",
    "if(flag == 0):\n",
    "    print(\"check finished!\")"
   ]
  },
  {
   "cell_type": "code",
   "execution_count": 9,
   "id": "937d99ab",
   "metadata": {},
   "outputs": [],
   "source": [
    "for uniprot_id in del_names:                \n",
    "    os.remove(pdb_path + uniprot_id + '.pdb')\n",
    "    os.remove(hhm_path + uniprot_id + '.hhm')    "
   ]
  },
  {
   "cell_type": "code",
   "execution_count": 20,
   "id": "b3011c16",
   "metadata": {},
   "outputs": [
    {
     "name": "stdout",
     "output_type": "stream",
     "text": [
      "1742\n"
     ]
    }
   ],
   "source": [
    "# generate fasta\n",
    "files = os.listdir(pdb_path) \n",
    "name_list = []\n",
    "for fi in files: \n",
    "    pdb_name = fi.split('.')[0]\n",
    "    name_list.append(pdb_name)\n",
    "print(len(name_list))\n",
    "new = open(\"data/dataset_alphafold.txt\", \"w+\")\n",
    "with open(\"data/dataset_fasta.txt\") as file:\n",
    "    line = file.readline()\n",
    "    while line:\n",
    "        if(line[0] == '>'):\n",
    "            uniprot_id = line[1:].strip()\n",
    "            seq = file.readline().strip()\n",
    "            label = file.readline().strip()   \n",
    "            if(uniprot_id in name_list):\n",
    "                new.write(\">\" + uniprot_id + '\\n')\n",
    "                new.write(seq + '\\n')\n",
    "                new.write(label + '\\n')\n",
    "        line = file.readline()"
   ]
  },
  {
   "cell_type": "code",
   "execution_count": null,
   "id": "3b78b919",
   "metadata": {},
   "outputs": [],
   "source": []
  }
 ],
 "metadata": {
  "kernelspec": {
   "display_name": "Python 3 (ipykernel)",
   "language": "python",
   "name": "python3"
  },
  "language_info": {
   "codemirror_mode": {
    "name": "ipython",
    "version": 3
   },
   "file_extension": ".py",
   "mimetype": "text/x-python",
   "name": "python",
   "nbconvert_exporter": "python",
   "pygments_lexer": "ipython3",
   "version": "3.8.3"
  }
 },
 "nbformat": 4,
 "nbformat_minor": 5
}
